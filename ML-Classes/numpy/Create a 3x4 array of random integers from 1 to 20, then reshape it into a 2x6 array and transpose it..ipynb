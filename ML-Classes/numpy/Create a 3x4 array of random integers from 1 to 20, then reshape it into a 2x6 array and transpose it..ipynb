{
 "cells": [
  {
   "cell_type": "code",
   "execution_count": 3,
   "id": "dbee911f-3261-4c32-ac0a-10e7a7d640be",
   "metadata": {},
   "outputs": [
    {
     "name": "stdout",
     "output_type": "stream",
     "text": [
      "Original :\n",
      "[[ 8 14 10  8]\n",
      " [17  1 10 20]\n",
      " [ 2 15 12 10]]\n"
     ]
    }
   ],
   "source": [
    "import numpy as np\n",
    "\n",
    "arr = np.random.randint(1, 21, size=(3, 4))\n",
    "print(\"Original :\")\n",
    "print(arr)"
   ]
  },
  {
   "cell_type": "code",
   "execution_count": 5,
   "id": "7e66828e-c56d-47d8-920b-ef8eb7674d1f",
   "metadata": {},
   "outputs": [
    {
     "name": "stdout",
     "output_type": "stream",
     "text": [
      "\n",
      "Reshaped to 2x6:\n",
      "[[ 8 14 10  8 17  1]\n",
      " [10 20  2 15 12 10]]\n"
     ]
    }
   ],
   "source": [
    "res_ar = arr.reshape(2, 6)\n",
    "print(\"\\nReshaped to 2x6:\")\n",
    "print(res_ar)"
   ]
  },
  {
   "cell_type": "code",
   "execution_count": 7,
   "id": "bd40ed33-7903-4f4a-a9ee-40532b616df5",
   "metadata": {},
   "outputs": [
    {
     "name": "stdout",
     "output_type": "stream",
     "text": [
      "\n",
      "Transposed (6x2:\n",
      "[[ 8 10]\n",
      " [14 20]\n",
      " [10  2]\n",
      " [ 8 15]\n",
      " [17 12]\n",
      " [ 1 10]]\n"
     ]
    }
   ],
   "source": [
    "trans_a = res_ar.T\n",
    "print(\"\\nTransposed (6x2:\")\n",
    "print(trans_a)"
   ]
  },
  {
   "cell_type": "code",
   "execution_count": null,
   "id": "5fe6a2d8-b1fc-4695-8fc4-4ac88d3c80e0",
   "metadata": {},
   "outputs": [],
   "source": []
  }
 ],
 "metadata": {
  "kernelspec": {
   "display_name": "Python 3 (ipykernel)",
   "language": "python",
   "name": "python3"
  },
  "language_info": {
   "codemirror_mode": {
    "name": "ipython",
    "version": 3
   },
   "file_extension": ".py",
   "mimetype": "text/x-python",
   "name": "python",
   "nbconvert_exporter": "python",
   "pygments_lexer": "ipython3",
   "version": "3.12.7"
  }
 },
 "nbformat": 4,
 "nbformat_minor": 5
}
