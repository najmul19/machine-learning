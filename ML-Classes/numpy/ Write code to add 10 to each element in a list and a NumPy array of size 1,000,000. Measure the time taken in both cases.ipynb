{
 "cells": [
  {
   "cell_type": "code",
   "execution_count": 1,
   "id": "87f51ad2-c559-4805-b343-fbe66aee227b",
   "metadata": {},
   "outputs": [],
   "source": [
    "import time\n",
    "import numpy as np"
   ]
  },
  {
   "cell_type": "code",
   "execution_count": 3,
   "id": "dfe18973-6c47-4dc7-b991-82d7a0531e3e",
   "metadata": {},
   "outputs": [],
   "source": [
    "size = 1000000\n",
    "py_list = list(range(size))\n",
    "np_array = np.arange(size)"
   ]
  },
  {
   "cell_type": "code",
   "execution_count": 5,
   "id": "bcb8e641-ec66-4054-abec-ea16dc009148",
   "metadata": {},
   "outputs": [
    {
     "name": "stdout",
     "output_type": "stream",
     "text": [
      "List operation time: 0.158876 seconds\n"
     ]
    }
   ],
   "source": [
    "s_time = time.time()\n",
    "py_list_result = [x + 10 for x in py_list]\n",
    "list_time = time.time() - s_time\n",
    "print(f\"List operation time: {list_time:.6f} seconds\")"
   ]
  },
  {
   "cell_type": "code",
   "execution_count": 7,
   "id": "68c8facf-f477-4f3f-b717-db002098bd41",
   "metadata": {},
   "outputs": [
    {
     "name": "stdout",
     "output_type": "stream",
     "text": [
      "NumPy operation time: 0.003360 seconds\n"
     ]
    }
   ],
   "source": [
    "s_time = time.time()\n",
    "np_array_result = np_array + 10\n",
    "numpy_time = time.time() - s_time\n",
    "print(f\"NumPy operation time: {numpy_time:.6f} seconds\")"
   ]
  },
  {
   "cell_type": "code",
   "execution_count": null,
   "id": "03894118-302a-4430-9d18-bd22faccdf1a",
   "metadata": {},
   "outputs": [],
   "source": []
  }
 ],
 "metadata": {
  "kernelspec": {
   "display_name": "Python 3 (ipykernel)",
   "language": "python",
   "name": "python3"
  },
  "language_info": {
   "codemirror_mode": {
    "name": "ipython",
    "version": 3
   },
   "file_extension": ".py",
   "mimetype": "text/x-python",
   "name": "python",
   "nbconvert_exporter": "python",
   "pygments_lexer": "ipython3",
   "version": "3.12.7"
  }
 },
 "nbformat": 4,
 "nbformat_minor": 5
}
