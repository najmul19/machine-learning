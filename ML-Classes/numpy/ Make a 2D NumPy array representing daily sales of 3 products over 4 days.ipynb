{
 "cells": [
  {
   "cell_type": "code",
   "execution_count": 3,
   "id": "400f6f07-52db-4406-8474-60e0363a8e66",
   "metadata": {},
   "outputs": [],
   "source": [
    "import numpy as np\n",
    "\n",
    "\n",
    "np_a = np.array([\n",
    "    [10, 20, 30, 40], \n",
    "    [5, 15, 25, 35],  \n",
    "    [12, 22, 32, 42]  \n",
    "])"
   ]
  },
  {
   "cell_type": "code",
   "execution_count": 5,
   "id": "910d8563-4492-4996-ad96-218ff52ee056",
   "metadata": {},
   "outputs": [],
   "source": [
    "transp = np_a.T"
   ]
  },
  {
   "cell_type": "code",
   "execution_count": 7,
   "id": "471564ff-db09-4320-aa7a-0443223f74a6",
   "metadata": {},
   "outputs": [
    {
     "name": "stdout",
     "output_type": "stream",
     "text": [
      "Original array :\n",
      "[[10 20 30 40]\n",
      " [ 5 15 25 35]\n",
      " [12 22 32 42]]\n",
      "\n",
      "Transposed array:\n",
      "[[10  5 12]\n",
      " [20 15 22]\n",
      " [30 25 32]\n",
      " [40 35 42]]\n"
     ]
    }
   ],
   "source": [
    "\n",
    "print(\"Original array :\")\n",
    "print(np_a)\n",
    "\n",
    "print(\"\\nTransposed array:\")\n",
    "print(transp)"
   ]
  },
  {
   "cell_type": "code",
   "execution_count": null,
   "id": "b507297c-35ef-4574-a1f6-ebe265bb6635",
   "metadata": {},
   "outputs": [],
   "source": []
  }
 ],
 "metadata": {
  "kernelspec": {
   "display_name": "Python 3 (ipykernel)",
   "language": "python",
   "name": "python3"
  },
  "language_info": {
   "codemirror_mode": {
    "name": "ipython",
    "version": 3
   },
   "file_extension": ".py",
   "mimetype": "text/x-python",
   "name": "python",
   "nbconvert_exporter": "python",
   "pygments_lexer": "ipython3",
   "version": "3.12.7"
  }
 },
 "nbformat": 4,
 "nbformat_minor": 5
}
