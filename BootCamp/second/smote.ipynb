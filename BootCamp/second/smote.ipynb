{
 "cells": [
  {
   "cell_type": "code",
   "execution_count": 7,
   "id": "df8f7913-3a94-486a-9245-8158ccd9fc45",
   "metadata": {},
   "outputs": [],
   "source": [
    "from sklearn.datasets import load_breast_cancer\n",
    "import pandas as pd\n",
    "from imblearn.over_sampling import SMOTE\n",
    "from collections import Counter"
   ]
  },
  {
   "cell_type": "code",
   "execution_count": 9,
   "id": "45160894-2775-432d-ac4b-83b85eece949",
   "metadata": {},
   "outputs": [],
   "source": [
    "#load dataset\n",
    "data = load_breast_cancer()\n",
    "X = pd.DataFrame(data.data, columns=data.feature_names)\n",
    "y = pd.Series(data.target)"
   ]
  },
  {
   "cell_type": "code",
   "execution_count": 15,
   "id": "0df66ee9-012c-4bc9-8709-372d8c598e63",
   "metadata": {},
   "outputs": [
    {
     "name": "stdout",
     "output_type": "stream",
     "text": [
      "Before Smote:  Counter({0: 212, 1: 71})\n"
     ]
    }
   ],
   "source": [
    "#simulate imbalance: make class 1 snaller \n",
    "#use pd.concat instead of append\n",
    "X_balance = pd.concat([X[y==0], X[y==1].sample(frac=0.2, random_state=42) ], ignore_index=True)\n",
    "y_balance = pd.concat([y[y==0], y[y==1].sample(frac=0.2, random_state=42) ], ignore_index=True)\n",
    "\n",
    "print(\"Before Smote: \",Counter(y_balance))"
   ]
  },
  {
   "cell_type": "code",
   "execution_count": 17,
   "id": "ca5c1b76-db69-4d5d-89a5-1f7a3c95fffa",
   "metadata": {},
   "outputs": [
    {
     "name": "stdout",
     "output_type": "stream",
     "text": [
      "After Smote:  Counter({0: 212, 1: 212})\n"
     ]
    }
   ],
   "source": [
    "# apply SMOTE\n",
    "smote = SMOTE(random_state=42)\n",
    "x_smote,y_smote=smote.fit_resample(X_balance,y_balance)\n",
    "print(\"After Smote: \",Counter(y_smote))"
   ]
  },
  {
   "cell_type": "markdown",
   "id": "9fa48e7e-99b1-40ad-8c6e-cf2cd6cd8732",
   "metadata": {},
   "source": [
    "undersampling=reduce size\n",
    "smote(symentic minority oversampling technique): genarate sementic sample of the minority class"
   ]
  },
  {
   "cell_type": "code",
   "execution_count": null,
   "id": "c017e041-1c09-4923-8975-36d020a61f5f",
   "metadata": {},
   "outputs": [],
   "source": []
  }
 ],
 "metadata": {
  "kernelspec": {
   "display_name": "Python 3 (ipykernel)",
   "language": "python",
   "name": "python3"
  },
  "language_info": {
   "codemirror_mode": {
    "name": "ipython",
    "version": 3
   },
   "file_extension": ".py",
   "mimetype": "text/x-python",
   "name": "python",
   "nbconvert_exporter": "python",
   "pygments_lexer": "ipython3",
   "version": "3.12.7"
  }
 },
 "nbformat": 4,
 "nbformat_minor": 5
}
